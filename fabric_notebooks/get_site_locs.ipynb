{
 "cells": [
  {
   "cell_type": "code",
   "execution_count": null,
   "id": "b33307ce-7be7-4719-8857-01d54fe0b585",
   "metadata": {},
   "outputs": [],
   "source": [
    "from fabrictestbed_extensions.fablib.fablib import FablibManager as fablib_manager"
   ]
  },
  {
   "cell_type": "code",
   "execution_count": null,
   "id": "df03089b-3817-414f-878a-32157541287f",
   "metadata": {},
   "outputs": [],
   "source": [
    "fablib = fablib_manager()"
   ]
  },
  {
   "cell_type": "code",
   "execution_count": null,
   "id": "1b63e36b-59ab-4eca-9572-2d3b3a0b6549",
   "metadata": {},
   "outputs": [],
   "source": [
    "all_sites = fablib.list_sites(output=\"list\", quiet=True,)\n",
    "print(all_sites)  # type is wrong"
   ]
  },
  {
   "cell_type": "code",
   "execution_count": null,
   "id": "61e2fd01-45f5-4c65-ac13-18a88bf992cb",
   "metadata": {},
   "outputs": [],
   "source": [
    "locs = []\n",
    "for site in all_sites:\n",
    "    site_loc = []\n",
    "    site_loc.append(site['name'])\n",
    "    site_loc.append(site['location'][0]) # lat\n",
    "    site_loc.append(site['location'][1]) # lon\n",
    "    locs.append(site_loc)\n",
    "    \n",
    "print(locs)"
   ]
  },
  {
   "cell_type": "code",
   "execution_count": null,
   "id": "55c5e46b-88ab-4e59-a7ad-d422cb87f708",
   "metadata": {},
   "outputs": [],
   "source": [
    "import csv\n",
    "\n",
    "col_names = ['site', 'lat', 'lon']\n",
    "\n",
    "with open('sites.csv', 'w') as csvfile: \n",
    "    writer = csv.writer(csvfile) \n",
    "    writer.writerow(col_names) \n",
    "    writer.writerows(locs) "
   ]
  }
 ],
 "metadata": {
  "kernelspec": {
   "display_name": "Python 3 (ipykernel)",
   "language": "python",
   "name": "python3"
  },
  "language_info": {
   "codemirror_mode": {
    "name": "ipython",
    "version": 3
   },
   "file_extension": ".py",
   "mimetype": "text/x-python",
   "name": "python",
   "nbconvert_exporter": "python",
   "pygments_lexer": "ipython3",
   "version": "3.10.6"
  }
 },
 "nbformat": 4,
 "nbformat_minor": 5
}
